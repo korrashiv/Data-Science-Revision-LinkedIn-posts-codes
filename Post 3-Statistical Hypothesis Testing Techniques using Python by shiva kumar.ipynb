{
 "cells": [
  {
   "cell_type": "markdown",
   "id": "beb57651",
   "metadata": {},
   "source": [
    "# What is Hypothesis Testing and Techniques?\n"
   ]
  },
  {
   "cell_type": "markdown",
   "id": "d044f10c",
   "metadata": {},
   "source": [
    "Hypothesis testing is a statistical method that used in making statistical decisions using experimental data about \n",
    "population parameters based on sample data. It involves formulating null and alternative hypotheses, collecting data, \n",
    "and using statistical tests to determine the validity of the null hypothesis."
   ]
  },
  {
   "cell_type": "markdown",
   "id": "43f39996",
   "metadata": {},
   "source": [
    "# Understanding Hypothesis Testing Techniques and their Implementation using Python"
   ]
  },
  {
   "cell_type": "markdown",
   "id": "8608467e",
   "metadata": {},
   "source": [
    "# One-Sample t-Test\n",
    "The one-sample t-test determines if the mean (average) of a single group or sample is significantly different \n",
    "from a known population mean. It involves comparing the sample mean to the known population mean while considering \n",
    "the variability within the sample.\n",
    "\n",
    "Example: Suppose you have a sample of test scores from a class. You want to test if their average is significantly \n",
    "different from the national average of 70."
   ]
  },
  {
   "cell_type": "code",
   "execution_count": 23,
   "id": "e4c3a8c7",
   "metadata": {},
   "outputs": [],
   "source": [
    "import scipy.stats as stats\n",
    "import numpy as np\n",
    "\n",
    "# Sample data: test scores of a class\n",
    "sample_scores = np.array([65, 78, 67, 72, 74, 62, 76, 70, 68, 71])"
   ]
  },
  {
   "cell_type": "code",
   "execution_count": 22,
   "id": "6816eb88",
   "metadata": {},
   "outputs": [
    {
     "name": "stdout",
     "output_type": "stream",
     "text": [
      "70.3\n"
     ]
    }
   ],
   "source": [
    "import statistics\n",
    "\n",
    "n = [65, 78, 67, 72, 74, 62, 76, 70, 68, 71]\n",
    "mean_value = statistics.mean(n)\n",
    "print(mean_value)\n"
   ]
  },
  {
   "cell_type": "code",
   "execution_count": 24,
   "id": "6cd594c4",
   "metadata": {},
   "outputs": [
    {
     "name": "stdout",
     "output_type": "stream",
     "text": [
      "t_statistic = 0.19097135526615505, P-value = 0.8527865916734706\n"
     ]
    }
   ],
   "source": [
    "# Known population mean (hypothesized)\n",
    "population_mean = 70\n",
    "\n",
    "# Perform one-sample t-test\n",
    "t_statistic, p_value = stats.ttest_1samp(sample_scores, population_mean)\n",
    "print(f\"t_statistic = {t_statistic}, P-value = {p_value}\")"
   ]
  },
  {
   "cell_type": "markdown",
   "id": "2745be9d",
   "metadata": {},
   "source": [
    "# Given the high p-value (0.853), much greater than the common alpha level of 0.05, \n",
    "we do not have sufficient evidence to reject the null hypothesis. It suggests that the sample mean \n",
    "is not significantly different from the population mean."
   ]
  },
  {
   "cell_type": "markdown",
   "id": "0ce566f6",
   "metadata": {},
   "source": [
    "Understanding P-values\n",
    "In hypothesis testing, the p-value represents the probability of obtaining an observed result, or more extreme results, \n",
    "if the null hypothesis were true. A smaller p-value suggests stronger evidence against the null hypothesis.\n",
    "\n",
    "The interpretation of p-values is as follows:\n",
    "\n",
    "If p-value ≤ alpha (α): You have enough evidence to reject the null hypothesis. It suggests that the observed data is unlikely \n",
    "to have occurred under the assumption that the null hypothesis is true.\n",
    "\n",
    "If p-value > alpha (α): You do not have enough evidence to reject the null hypothesis. It suggests that the observed data is \n",
    "    consistent with the null hypothesis."
   ]
  },
  {
   "cell_type": "markdown",
   "id": "519fe833",
   "metadata": {},
   "source": [
    "# Two-Sample t-Test\n",
    "The two-sample t-test helps determine if there’s a significant difference between the means of two independent groups or samples.\n",
    "It assesses if the difference in sample means is statistically significant while accounting for the variability within each \n",
    "group.\n",
    "Example: Comparing the average heights of two different groups of plants treated with different fertilizers."
   ]
  },
  {
   "cell_type": "code",
   "execution_count": 25,
   "id": "058879e3",
   "metadata": {},
   "outputs": [],
   "source": [
    "# Sample data: heights of plants with different fertilizers\n",
    "heights_fertilizer1 = np.array([15, 16, 17, 14, 16, 15, 16, 17])\n",
    "heights_fertilizer2 = np.array([14, 15, 15, 15, 16, 14, 15, 15])"
   ]
  },
  {
   "cell_type": "code",
   "execution_count": 26,
   "id": "98745c81",
   "metadata": {},
   "outputs": [
    {
     "name": "stdout",
     "output_type": "stream",
     "text": [
      "t_statistic = 2.032862543430305, P-value = 0.06148225337599243\n"
     ]
    }
   ],
   "source": [
    "# Perform two-sample t-test\n",
    "t_statistic, p_value = stats.ttest_ind(heights_fertilizer1, heights_fertilizer2)\n",
    "print(f\"t_statistic = {t_statistic}, P-value = {p_value}\")"
   ]
  },
  {
   "cell_type": "markdown",
   "id": "00290dff",
   "metadata": {},
   "source": [
    "Given the p-value (0.061), slightly higher than the conventional alpha level of 0.05, we do not have enough evidence to \n",
    "reject the null hypothesis at a 5% significance level. It suggests that while there is a tendency towards a difference between\n",
    "the two group means, this difference is not statistically significant at the 5% level."
   ]
  },
  {
   "cell_type": "markdown",
   "id": "e2b1d1e7",
   "metadata": {},
   "source": [
    "# Chi-Square Test\n",
    "The chi-square test assesses the association or independence between two categorical variables. It involves comparing the \n",
    "observed frequency of data with the expected frequency assuming independence. The larger the chi-square statistic, the less \n",
    "likely the variables are independent.\n",
    "Example: Testing if there is an association between gender (male/female) and preference for a new product (like/dislike)"
   ]
  },
  {
   "cell_type": "code",
   "execution_count": 27,
   "id": "591309d8",
   "metadata": {},
   "outputs": [],
   "source": [
    "# Rows: Gender, Columns: Product Preference\n",
    "data = np.array([[30, 10],  # 30 males like, 10 dislike\n",
    "                 [35, 5]])  # 35 females like, 5 dislike"
   ]
  },
  {
   "cell_type": "code",
   "execution_count": 28,
   "id": "4a0c429c",
   "metadata": {},
   "outputs": [
    {
     "name": "stdout",
     "output_type": "stream",
     "text": [
      "t_statistic = 2.032862543430305, P-value = 0.2518846204641586, Degrees of Freedom = 1, Expected frequencies = [[32.5  7.5]\n",
      " [32.5  7.5]]\n"
     ]
    }
   ],
   "source": [
    "# Perform Chi-Square Test\n",
    "chi2_statistic, p_value, dof, expected = stats.chi2_contingency(data)\n",
    "print(f\"t_statistic = {t_statistic}, P-value = {p_value}, Degrees of Freedom = {dof}, Expected frequencies = {expected}\")"
   ]
  },
  {
   "cell_type": "markdown",
   "id": "92b6fbfd",
   "metadata": {},
   "source": [
    "Degrees of Freedom are calculated based on the number of categories in the data. For a 2×2 contingency table, the degrees of freedom are typically (rows – 1) * (columns – 1) = 1. And Expected Frequencies are the frequencies that would be expected if there were no association between the variables. In our case, the expected frequencies are 32.5 and 7.5 for both categories. It is what we would expect to see if the null hypothesis were true.\n",
    "\n",
    "In this case, the p-value (0.252) is greater than the common alpha level of 0.05, so we do not have sufficient evidence to reject the null hypothesis. It suggests that the data do not provide strong evidence of a significant association between the two categorical variables."
   ]
  },
  {
   "cell_type": "markdown",
   "id": "4baf26c8",
   "metadata": {},
   "source": [
    "# ANOVA (Analysis of Variance)\n",
    "ANOVA is used to analyze the differences among means of three or more groups. It tells you if there are statistically significant differences between these groups. ANOVA examines the variance within each group and between groups. It calculates an F-statistic to test if group means are equal.\n",
    "\n",
    "Example: Testing if three different diets have different effects on weight loss."
   ]
  },
  {
   "cell_type": "code",
   "execution_count": 29,
   "id": "6fc96450",
   "metadata": {},
   "outputs": [],
   "source": [
    "from scipy.stats import f_oneway\n",
    "\n",
    "# Sample data: weight loss for three different diets\n",
    "diet1 = np.array([2, 3, 1, 2, 2])\n",
    "diet2 = np.array([4, 5, 4, 4, 5])\n",
    "diet3 = np.array([5, 6, 7, 6, 5])"
   ]
  },
  {
   "cell_type": "code",
   "execution_count": 30,
   "id": "643ab512",
   "metadata": {},
   "outputs": [
    {
     "name": "stdout",
     "output_type": "stream",
     "text": [
      "f_statistic = 36.933333333333294, P-value = 7.449718327740603e-06\n"
     ]
    }
   ],
   "source": [
    "# Perform ANOVA\n",
    "f_statistic, p_value = f_oneway(diet1, diet2, diet3)\n",
    "print(f\"f_statistic = {f_statistic}, P-value = {p_value}\")"
   ]
  },
  {
   "cell_type": "markdown",
   "id": "8628a90a",
   "metadata": {},
   "source": [
    "The F-statistic is a ratio of the variance between the group means to the variance within the groups. A higher F-statistic typically indicates a greater probability that there are significant differences between the means of the groups.Given the extremely low p-value (far below the conventional alpha level of 0.05), there is strong evidence to reject the null hypothesis. It indicates that there are significant differences among the group means.\n",
    "\n",
    "So, these were the Hypothesis Testing techniques with their implementation using Python you should know as a Data Science professional."
   ]
  },
  {
   "cell_type": "code",
   "execution_count": null,
   "id": "1345fb79",
   "metadata": {},
   "outputs": [],
   "source": []
  }
 ],
 "metadata": {
  "kernelspec": {
   "display_name": "Python 3 (ipykernel)",
   "language": "python",
   "name": "python3"
  },
  "language_info": {
   "codemirror_mode": {
    "name": "ipython",
    "version": 3
   },
   "file_extension": ".py",
   "mimetype": "text/x-python",
   "name": "python",
   "nbconvert_exporter": "python",
   "pygments_lexer": "ipython3",
   "version": "3.11.4"
  }
 },
 "nbformat": 4,
 "nbformat_minor": 5
}
